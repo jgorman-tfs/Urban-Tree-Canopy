{
 "cells": [
  {
   "cell_type": "markdown",
   "metadata": {},
   "source": [
    "# Urban Tree Canopy - Part 2 (UTC Processing)\n",
    "\n",
    "## After completing Part 1 (LiDAR Processing or Raster Classification) AND the output has been QA/QC'd, this script will process the polygons into UTC and C2C shapefiles that are ready to be uploaded.\n",
    "\n",
    "## BEFORE YOU BEGIN\n",
    "1.) Ensure the output for Part 1 has been uploaded to a new GDB in your folders\n",
    "2.) Import the outputs from Part 1 into your map and ensure its active (i.e. you can still see the layers on the map while in this notebook)\n",
    "3.) Import the CHHD, City_Boundary, and ETJ shapefiles into the same map. The ETJ and City Boundary layers will be essentially the same, with only the polygon being different.\n",
    "4.) Change the input in the first cell to reflect where the newly created GDB from Part 1 is, and where you want the final outputs to be saved.\n"
   ]
  },
  {
   "cell_type": "code",
   "execution_count": 5,
   "metadata": {},
   "outputs": [
    {
     "name": "stdout",
     "output_type": "stream",
     "text": [
      "['Corsicana', 'Ennis', 'Hillsboro']\n"
     ]
    }
   ],
   "source": [
    "import os\n",
    "#CHANGE THESE\n",
    "final_gdb = r'D:\\ArcGIS_Projects\\UTC\\UTC\\UTC_Final.gdb'\n",
    "arcpy.env.workspace = r'D:\\ArcGIS_Projects\\UTC\\UTC\\Polygons_from_ETJ_Within_Ellis_hill_2022.gdb'\n",
    "#DON'T CHANGE THESE\n",
    "feature_classes = arcpy.ListFeatureClasses()\n",
    "cities = []\n",
    "for fc in feature_classes:\n",
    "    cities.append(fc)\n",
    "print(cities)\n"
   ]
  },
  {
   "cell_type": "code",
   "execution_count": 9,
   "metadata": {},
   "outputs": [],
   "source": [
    "arcpy.env.overwriteOutput = True\n",
    "arcpy.env.workspace = arcpy.env.scratchGDB\n",
    "for city in cities:\n",
    "    print(f'Starting f'{city}' analysis.)\n",
    "    arcpy.management.Dissolve(f'{city}', f'{city}')\n",
    "    arcpy.management.SelectLayerByAttribute('ETJ', 'NEW_SELECTION', f\"NAME10 = '{city}'\")\n",
    "    arcpy.analysis.Clip('CHHD', 'ETJ', f'CHHD_{city}')\n",
    "    arcpy.analysis.Clip(f'{city}', 'ETJ', f'{city}_ETJ_TEMP')\n",
    "    arcpy.management.SelectLayerByAttribute('City_Boundary', 'NEW_SELECTION', f\"NAME10 = '{city}'\")\n",
    "    arcpy.analysis.Clip(f'{city}', 'City_Boundary', f'{city}_City')\n",
    "    arcpy.management.SelectLayerByAttribute('City_Boundary', \"CLEAR_SELECTION\")\n",
    "    arcpy.management.SelectLayerByAttribute('ETJ', \"CLEAR_SELECTION\")\n",
    "    arcpy.analysis.Erase(f'{city}_ETJ_TEMP', f'{city}_City', f'{city}_ETJ')\n",
    "    arcpy.management.AddFields(f'{city}_City', [['Name', 'TEXT'], \n",
    "                                                 ['CL_ET', 'SHORT'],\n",
    "                                                ['Area', 'FLOAT'],\n",
    "                                                ['PlaceFIPS', 'LONG']])\n",
    "    \n",
    "    arcpy.management.AddFields(f'{city}_ETJ', [['Name', 'TEXT'], \n",
    "                                                 ['CL_ET', 'SHORT'],\n",
    "                                                ['Area', 'FLOAT'],\n",
    "                                               ['PlaceFIPS', 'LONG']])\n",
    "    arcpy.management.CalculateField(f'{city}_ETJ', \"Name\", f\"'{city}'\", 'PYTHON3')\n",
    "    arcpy.management.CalculateField(f'{city}_ETJ', \"CL_ET\", -1 , \"PYTHON3\")\n",
    "    arcpy.management.CalculateGeometryAttributes(f'{city}_ETJ', [['Area', 'AREA_GEODESIC']],\"METERS\",\"ACRES_US\")\n",
    "    arcpy.management.JoinField(f'{city}_ETJ', 'Name', 'ETJ','Name10', 'GRIDCODE')\n",
    "    arcpy.management.CalculateField(f'{city}_ETJ', \"PlaceFIPS\", '!GRIDCODE!', \"PYTHON3\")\n",
    "    arcpy.management.DeleteField(f'{city}_ETJ', 'GRIDCODE')\n",
    "    arcpy.management.CalculateField(f'{city}_ETJ', \"Name\", f\"'{city}_ETJ'\", 'PYTHON3')\n",
    "    \n",
    "    arcpy.management.CalculateField(f'{city}_City', \"Name\", f\"'{city}'\", \"PYTHON3\")\n",
    "    arcpy.management.CalculateField(f'{city}_City', \"CL_ET\", 0 , \"PYTHON3\")\n",
    "    arcpy.management.CalculateGeometryAttributes(f'{city}_City', [['Area', 'AREA_GEODESIC']], \"METERS\", \"ACRES_US\")\n",
    "    arcpy.management.JoinField(f'{city}_City', 'Name', 'ETJ','Name10', 'GRIDCODE')\n",
    "    arcpy.management.CalculateField(f'{city}_City', \"PlaceFIPS\", '!GRIDCODE!', \"PYTHON3\")\n",
    "    arcpy.management.DeleteField(f'{city}_City', 'GRIDCODE')  \n",
    "    \n",
    "    arcpy.management.Merge([f'{city}_City', f'{city}_ETJ'], f'{city}_utc')\n",
    "\n",
    "    arcpy.management.AddField(f'{city}_utc', 'C2C', 'TEXT')\n",
    "    arcpy.management.CalculateField(f'{city}_utc', 'C2C', \"'At Risk'\")    \n",
    "    \n",
    "    arcpy.analysis.Erase(f'CHHD_{city}', f'{city}_utc', f'{city}_c2c_temp')\n",
    "    arcpy.management.AddFields(f'{city}_c2c_temp', [['Name', 'TEXT'], \n",
    "                                                 ['CL_ET', 'SHORT'],\n",
    "                                                ['Area', 'FLOAT'],\n",
    "                                               ['PlaceFIPS', 'LONG']])\n",
    "    arcpy.management.CalculateField(f'{city}_c2c_temp', \"Name\", f\"'{city}'\", \"PYTHON3\")\n",
    "    arcpy.management.CalculateField(f'{city}_c2c_temp', \"CL_ET\", 2 , \"PYTHON3\")\n",
    "    arcpy.management.CalculateGeometryAttributes(f'{city}_c2c_temp', [['Area', 'AREA_GEODESIC']], \"METERS\", \"ACRES_US\")\n",
    "    arcpy.management.DeleteField(f'{city}_c2c_temp', 'GRIDCODE') \n",
    "    arcpy.management.JoinField(f'{city}_c2c_temp', 'Name', 'ETJ','Name10', 'GRIDCODE')\n",
    "    arcpy.management.CalculateField(f'{city}_c2c_temp', \"PlaceFIPS\", '!GRIDCODE!', \"PYTHON3\")\n",
    "    arcpy.management.DeleteField(f'{city}_c2c_temp', 'GRIDCODE') \n",
    "    arcpy.management.AddField(f'{city}_utc', 'C2C', 'TEXT')\n",
    "    arcpy.management.CalculateField(f'{city}_c2c_temp', 'C2C', \"'To Grow'\")\n",
    "    \n",
    "    arcpy.management.Merge([f'{city}_utc', f'{city}_c2c_temp'], f'{city}_c2c')\n",
    "    \n",
    "    output_utc = os.path.join(final_gdb, f'{city}_utc')\n",
    "    arcpy.management.CopyFeatures(f'{city}_utc', output_utc)\n",
    "    \n",
    "    output_c2c = os.path.join(final_gdb, f'{city}_c2c')\n",
    "    arcpy.management.CopyFeatures(f'{city}_c2c', output_c2c)\n",
    "    print(f'Analysis completed for {city}')\n",
    "    "
   ]
  },
  {
   "cell_type": "code",
   "execution_count": null,
   "metadata": {},
   "outputs": [],
   "source": []
  }
 ],
 "metadata": {
  "kernelspec": {
   "display_name": "ArcGISPro",
   "language": "Python",
   "name": "python3"
  },
  "language_info": {
   "file_extension": ".py",
   "name": "python",
   "version": "3"
  }
 },
 "nbformat": 4,
 "nbformat_minor": 2
}
